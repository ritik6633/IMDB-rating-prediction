{
  "cells": [
    {
      "cell_type": "markdown",
      "metadata": {
        "id": "view-in-github",
        "colab_type": "text"
      },
      "source": [
        "<a href=\"https://colab.research.google.com/github/ritik6633/IMDB-rating-prediction/blob/main/IMDB.ipynb\" target=\"_parent\"><img src=\"https://colab.research.google.com/assets/colab-badge.svg\" alt=\"Open In Colab\"/></a>"
      ]
    },
    {
      "cell_type": "code",
      "execution_count": null,
      "id": "394833ca",
      "metadata": {
        "id": "394833ca",
        "colab": {
          "base_uri": "https://localhost:8080/",
          "height": 384
        },
        "outputId": "d5b657ce-5f2e-4fb5-d423-a4b29ddd73ee"
      },
      "outputs": [
        {
          "output_type": "error",
          "ename": "ModuleNotFoundError",
          "evalue": "No module named 'squarify'",
          "traceback": [
            "\u001b[0;31m---------------------------------------------------------------------------\u001b[0m",
            "\u001b[0;31mModuleNotFoundError\u001b[0m                       Traceback (most recent call last)",
            "\u001b[0;32m<ipython-input-1-cc903f3dfc43>\u001b[0m in \u001b[0;36m<cell line: 5>\u001b[0;34m()\u001b[0m\n\u001b[1;32m      3\u001b[0m \u001b[0;32mimport\u001b[0m \u001b[0mmatplotlib\u001b[0m\u001b[0;34m.\u001b[0m\u001b[0mpyplot\u001b[0m \u001b[0;32mas\u001b[0m \u001b[0mplt\u001b[0m\u001b[0;34m\u001b[0m\u001b[0;34m\u001b[0m\u001b[0m\n\u001b[1;32m      4\u001b[0m \u001b[0;32mimport\u001b[0m \u001b[0mseaborn\u001b[0m \u001b[0;32mas\u001b[0m \u001b[0msns\u001b[0m\u001b[0;34m\u001b[0m\u001b[0;34m\u001b[0m\u001b[0m\n\u001b[0;32m----> 5\u001b[0;31m \u001b[0;32mimport\u001b[0m \u001b[0msquarify\u001b[0m\u001b[0;34m\u001b[0m\u001b[0;34m\u001b[0m\u001b[0m\n\u001b[0m\u001b[1;32m      6\u001b[0m \u001b[0;32mfrom\u001b[0m \u001b[0mcollections\u001b[0m \u001b[0;32mimport\u001b[0m \u001b[0mdefaultdict\u001b[0m\u001b[0;34m,\u001b[0m\u001b[0mCounter\u001b[0m\u001b[0;34m\u001b[0m\u001b[0;34m\u001b[0m\u001b[0m\n\u001b[1;32m      7\u001b[0m \u001b[0;32mfrom\u001b[0m \u001b[0msklearn\u001b[0m\u001b[0;34m.\u001b[0m\u001b[0mmodel_selection\u001b[0m \u001b[0;32mimport\u001b[0m \u001b[0mtrain_test_split\u001b[0m \u001b[0;32mas\u001b[0m \u001b[0mtts\u001b[0m\u001b[0;34m\u001b[0m\u001b[0;34m\u001b[0m\u001b[0m\n",
            "\u001b[0;31mModuleNotFoundError\u001b[0m: No module named 'squarify'",
            "",
            "\u001b[0;31m---------------------------------------------------------------------------\u001b[0;32m\nNOTE: If your import is failing due to a missing package, you can\nmanually install dependencies using either !pip or !apt.\n\nTo view examples of installing some common dependencies, click the\n\"Open Examples\" button below.\n\u001b[0;31m---------------------------------------------------------------------------\u001b[0m\n"
          ],
          "errorDetails": {
            "actions": [
              {
                "action": "open_url",
                "actionText": "Open Examples",
                "url": "/notebooks/snippets/importing_libraries.ipynb"
              }
            ]
          }
        }
      ],
      "source": [
        "import pandas as pd\n",
        "import numpy as np\n",
        "import matplotlib.pyplot as plt\n",
        "import seaborn as sns\n",
        "import squarify\n",
        "from collections import defaultdict,Counter\n",
        "from sklearn.model_selection import train_test_split as tts\n",
        "from sklearn.preprocessing import StandardScaler\n",
        "from sklearn.metrics import accuracy_score\n",
        "from sklearn.metrics import classification_report, roc_auc_score\n",
        "from sklearn.linear_model import LinearRegression\n",
        "from sklearn.model_selection import cross_val_score\n",
        "from sklearn.metrics import mean_squared_error, mean_absolute_error\n",
        "from sklearn.tree import DecisionTreeRegressor\n",
        "from sklearn.svm import SVR\n",
        "from sklearn.neighbors import KNeighborsRegressor\n",
        "from sklearn.svm import SVC\n",
        "from sklearn.neighbors import KNeighborsClassifier\n",
        "from sklearn.tree import DecisionTreeClassifier\n",
        "from sklearn.ensemble import RandomForestClassifier\n",
        "from sklearn.linear_model import LogisticRegression"
      ]
    },
    {
      "cell_type": "code",
      "execution_count": null,
      "id": "4b8a51e4",
      "metadata": {
        "id": "4b8a51e4"
      },
      "outputs": [],
      "source": [
        "df = pd.read_csv(\"movie_metadata.csv\")"
      ]
    },
    {
      "cell_type": "code",
      "execution_count": null,
      "id": "6f45f922",
      "metadata": {
        "id": "6f45f922"
      },
      "outputs": [],
      "source": [
        "df.sample(5)"
      ]
    },
    {
      "cell_type": "code",
      "execution_count": null,
      "id": "203db209",
      "metadata": {
        "id": "203db209"
      },
      "outputs": [],
      "source": [
        "df.columns"
      ]
    },
    {
      "cell_type": "code",
      "execution_count": null,
      "id": "9b98365e",
      "metadata": {
        "id": "9b98365e"
      },
      "outputs": [],
      "source": [
        "df.shape"
      ]
    },
    {
      "cell_type": "code",
      "execution_count": null,
      "id": "1a3e8305",
      "metadata": {
        "id": "1a3e8305"
      },
      "outputs": [],
      "source": [
        "df.isnull().sum()"
      ]
    },
    {
      "cell_type": "code",
      "execution_count": null,
      "id": "63be7c59",
      "metadata": {
        "id": "63be7c59"
      },
      "outputs": [],
      "source": [
        "df['gross'].fillna(df['gross'].median(),inplace=True)\n",
        "df['budget'].fillna(df['budget'].median(),inplace=True)\n",
        "df.dropna(inplace=True)"
      ]
    },
    {
      "cell_type": "code",
      "execution_count": null,
      "id": "73dc041d",
      "metadata": {
        "id": "73dc041d"
      },
      "outputs": [],
      "source": [
        "df.shape"
      ]
    },
    {
      "cell_type": "markdown",
      "id": "79df0e79",
      "metadata": {
        "id": "79df0e79"
      },
      "source": [
        "## About the Data (EDA)"
      ]
    },
    {
      "cell_type": "markdown",
      "id": "d74d2554",
      "metadata": {
        "id": "d74d2554"
      },
      "source": [
        "### Creating a new column to show main genre of movie. This will help in sorting out movies according to their genre types"
      ]
    },
    {
      "cell_type": "code",
      "execution_count": null,
      "id": "5cf791fd",
      "metadata": {
        "id": "5cf791fd"
      },
      "outputs": [],
      "source": [
        "df['main_genre'] = df['genres'].apply(lambda x: x.split('|')[0] if '|' in x else x)"
      ]
    },
    {
      "cell_type": "code",
      "execution_count": null,
      "id": "1d61164f",
      "metadata": {
        "id": "1d61164f"
      },
      "outputs": [],
      "source": [
        "df.sample(2)"
      ]
    },
    {
      "cell_type": "code",
      "execution_count": null,
      "id": "06278810",
      "metadata": {
        "id": "06278810"
      },
      "outputs": [],
      "source": [
        "plt.figure(figsize=(12,10))\n",
        "sns.boxplot(x='imdb_score',y='main_genre',data=df)\n",
        "plt.title('Movie Genres with their imdb scores',fontsize=18)\n",
        "plt.show()"
      ]
    },
    {
      "cell_type": "code",
      "execution_count": null,
      "id": "d87bb08b",
      "metadata": {
        "id": "d87bb08b"
      },
      "outputs": [],
      "source": [
        "numeric_cols = df.select_dtypes(include=np.number).columns\n",
        "z_scores = np.abs((df[numeric_cols] - df[numeric_cols].mean()) / df[numeric_cols].std())\n",
        "threshold = 3\n",
        "df = df[(z_scores < threshold).all(axis=1)]"
      ]
    },
    {
      "cell_type": "code",
      "execution_count": null,
      "id": "2c7ac44a",
      "metadata": {
        "id": "2c7ac44a"
      },
      "outputs": [],
      "source": [
        "df.shape"
      ]
    },
    {
      "cell_type": "code",
      "execution_count": null,
      "id": "6927a8b1",
      "metadata": {
        "id": "6927a8b1"
      },
      "outputs": [],
      "source": [
        "df.title_year.value_counts(dropna=True).sort_index().plot(kind='barh',figsize=(15,20))\n",
        "plt.title(\"Number of Movies released every year\",fontsize=18)\n",
        "plt.show()"
      ]
    },
    {
      "cell_type": "code",
      "execution_count": null,
      "id": "521713bd",
      "metadata": {
        "id": "521713bd"
      },
      "outputs": [],
      "source": [
        "df.main_genre.value_counts(dropna=True).sort_values().plot(kind='barh',figsize=(15,20))\n",
        "plt.title(\"Number of Movies released every year\",fontsize=18)\n",
        "plt.show()"
      ]
    },
    {
      "cell_type": "code",
      "execution_count": null,
      "id": "970cfdaf",
      "metadata": {
        "id": "970cfdaf"
      },
      "outputs": [],
      "source": [
        "plt.figure(figsize=(15, 10))\n",
        "squarify.plot(Counter(df['main_genre']).values(),label=Counter(df['main_genre']).keys(),text_kwargs={'fontsize':12}\n",
        "             ,bar_kwargs={'alpha':.7},pad=True)\n",
        "plt.title(\"Genres\",fontsize=18)\n",
        "plt.axis(\"off\")\n",
        "plt.show()"
      ]
    },
    {
      "cell_type": "code",
      "execution_count": null,
      "id": "0bf43e2a",
      "metadata": {
        "id": "0bf43e2a"
      },
      "outputs": [],
      "source": [
        "# Movies with the lowest Imdb rating\n",
        "df[df['imdb_score']==3.3]"
      ]
    },
    {
      "cell_type": "code",
      "execution_count": null,
      "id": "18cff836",
      "metadata": {
        "id": "18cff836"
      },
      "outputs": [],
      "source": [
        "# Movie with the highest Imdb rating\n",
        "df[df['imdb_score']==8.9]"
      ]
    },
    {
      "cell_type": "markdown",
      "id": "35565f93",
      "metadata": {
        "id": "35565f93"
      },
      "source": [
        "## Histogram of all columns in df"
      ]
    },
    {
      "cell_type": "code",
      "execution_count": null,
      "id": "1cddf48d",
      "metadata": {
        "id": "1cddf48d"
      },
      "outputs": [],
      "source": [
        "df.hist(bins=30,figsize=(15,15),color='g')\n",
        "plt.show()"
      ]
    },
    {
      "cell_type": "markdown",
      "id": "864e730d",
      "metadata": {
        "id": "864e730d"
      },
      "source": [
        "## Adding New Column that shows number of genres in movie"
      ]
    },
    {
      "cell_type": "code",
      "execution_count": null,
      "id": "6df10d93",
      "metadata": {
        "id": "6df10d93"
      },
      "outputs": [],
      "source": [
        "df['num_genres'] = df.genres.apply(lambda x: len(x.split('|')))"
      ]
    },
    {
      "cell_type": "code",
      "execution_count": null,
      "id": "314e0444",
      "metadata": {
        "id": "314e0444"
      },
      "outputs": [],
      "source": [
        "df.sample(2)"
      ]
    },
    {
      "cell_type": "code",
      "execution_count": null,
      "id": "645e24ef",
      "metadata": {
        "id": "645e24ef"
      },
      "outputs": [],
      "source": [
        "df.num_genres.max()"
      ]
    },
    {
      "cell_type": "code",
      "execution_count": null,
      "id": "15841a7b",
      "metadata": {
        "id": "15841a7b"
      },
      "outputs": [],
      "source": [
        "df[df.num_genres==8]"
      ]
    },
    {
      "cell_type": "code",
      "execution_count": null,
      "id": "cf76938a",
      "metadata": {
        "id": "cf76938a"
      },
      "outputs": [],
      "source": [
        "plt.figure(figsize=(12,10))\n",
        "sns.heatmap(df.corr(),annot=True,linewidths=.5,\n",
        "            cmap='coolwarm',square=True,cbar_kws={'label': 'Correlation Coefficient'})\n",
        "plt.title(\"Correlation plot\",fontsize=18)\n",
        "plt.show()"
      ]
    },
    {
      "cell_type": "markdown",
      "id": "ec61a516",
      "metadata": {
        "id": "ec61a516"
      },
      "source": [
        "### Selected Cols for model\n",
        "num_critic_for_reviews<br>\n",
        "duration<br>\n",
        "num_voted_users<br>\n",
        "num_user_for_reviews<br>\n",
        "movie_facbook_likes<br>\n",
        "director_facebook_likes<br>"
      ]
    },
    {
      "cell_type": "code",
      "execution_count": null,
      "id": "c241c10e",
      "metadata": {
        "id": "c241c10e"
      },
      "outputs": [],
      "source": [
        "X = df[['num_critic_for_reviews','duration','num_voted_users','num_user_for_reviews','movie_facebook_likes'\n",
        "       ,'director_facebook_likes']]\n",
        "y = df['imdb_score']"
      ]
    },
    {
      "cell_type": "code",
      "execution_count": null,
      "id": "8e48dcc6",
      "metadata": {
        "id": "8e48dcc6"
      },
      "outputs": [],
      "source": [
        "X.shape,y.shape"
      ]
    },
    {
      "cell_type": "code",
      "execution_count": null,
      "id": "434ae35b",
      "metadata": {
        "id": "434ae35b"
      },
      "outputs": [],
      "source": [
        "X_train, X_test, y_train, y_test = tts(X,y,test_size=0.2,random_state=32)"
      ]
    },
    {
      "cell_type": "code",
      "execution_count": null,
      "id": "0a6e773e",
      "metadata": {
        "id": "0a6e773e"
      },
      "outputs": [],
      "source": [
        "lm = LinearRegression()\n",
        "lm.fit(X_train,y_train)\n",
        "pred_lm= lm.predict(X_test)\n",
        "print(\"Mean squared error using linear regression\",mean_squared_error(y_test,pred_lm))\n",
        "print(\"Mean absolute error using linear regression\",mean_absolute_error(y_test,pred_lm))"
      ]
    },
    {
      "cell_type": "code",
      "execution_count": null,
      "id": "a9fd2739",
      "metadata": {
        "id": "a9fd2739"
      },
      "outputs": [],
      "source": [
        "dtc = DecisionTreeRegressor()\n",
        "dtc.fit(X_train, y_train)\n",
        "pred_dt = dtc.predict(X_test)\n",
        "print(\"Mean squared error using Decision Tree Regression\",mean_squared_error(y_test,pred_dt))\n",
        "print(\"Mean absolute error using Decision Tree regression\",mean_absolute_error(y_test,pred_dt))"
      ]
    },
    {
      "cell_type": "code",
      "execution_count": null,
      "id": "f6f90b2e",
      "metadata": {
        "id": "f6f90b2e"
      },
      "outputs": [],
      "source": [
        "svr = SVR(kernel='rbf')\n",
        "svr.fit(X_train,y_train)\n",
        "pred_svr = svr.predict(X_test)\n",
        "print(\"Mean squared error using Support Vector regression\",mean_squared_error(y_test,pred_svr))\n",
        "print(\"Mean absolute error using Support Vector regression\",mean_absolute_error(y_test,pred_svr))"
      ]
    },
    {
      "cell_type": "code",
      "execution_count": null,
      "id": "0c144e76",
      "metadata": {
        "id": "0c144e76"
      },
      "outputs": [],
      "source": [
        "knn = KNeighborsRegressor(n_neighbors=12)\n",
        "knn.fit(X_train,y_train)\n",
        "pred_knn = knn.predict(X_test)\n",
        "print(\"Mean squared error using KNN regression\",mean_squared_error(y_test,pred_knn))\n",
        "print(\"Mean absolute error using KNN regression\",mean_absolute_error(y_test,pred_knn))"
      ]
    },
    {
      "cell_type": "markdown",
      "id": "076d861f",
      "metadata": {
        "id": "076d861f"
      },
      "source": [
        "### Conclusion:\n",
        "#### Linear Regression model seems to perform best among all with MSE = 0.67 and MAE = 0.65"
      ]
    },
    {
      "cell_type": "markdown",
      "id": "4a994024",
      "metadata": {
        "id": "4a994024"
      },
      "source": [
        "## To work with Classification models, Adding another column \"movie_status\" that contains wether movie is hit or (flop or average)"
      ]
    },
    {
      "cell_type": "code",
      "execution_count": null,
      "id": "c3887d18",
      "metadata": {
        "id": "c3887d18"
      },
      "outputs": [],
      "source": [
        "def getStatus(row):\n",
        "    bgt = row['budget']\n",
        "    grs = row['gross']\n",
        "\n",
        "    if bgt*3<=grs:\n",
        "        return 1\n",
        "    return 0\n"
      ]
    },
    {
      "cell_type": "code",
      "execution_count": null,
      "id": "9da698c4",
      "metadata": {
        "id": "9da698c4"
      },
      "outputs": [],
      "source": [
        "df['movie_status'] = df[['budget','gross']].apply(getStatus, axis=1) #1 means HIT, 0 means FLOP"
      ]
    },
    {
      "cell_type": "code",
      "execution_count": null,
      "id": "80fbbde6",
      "metadata": {
        "id": "80fbbde6"
      },
      "outputs": [],
      "source": [
        "df['movie_status']"
      ]
    },
    {
      "cell_type": "code",
      "execution_count": null,
      "id": "2a56067a",
      "metadata": {
        "id": "2a56067a"
      },
      "outputs": [],
      "source": [
        "y = df['movie_status']\n",
        "X = df[['num_critic_for_reviews','duration','num_voted_users','num_user_for_reviews','movie_facebook_likes'\n",
        "       ,'director_facebook_likes']]"
      ]
    },
    {
      "cell_type": "code",
      "execution_count": null,
      "id": "8579a532",
      "metadata": {
        "id": "8579a532"
      },
      "outputs": [],
      "source": [
        "X_train, X_test, y_train, y_test = tts(X,y,test_size=0.2,random_state=32)"
      ]
    },
    {
      "cell_type": "code",
      "execution_count": null,
      "id": "902d55a3",
      "metadata": {
        "id": "902d55a3"
      },
      "outputs": [],
      "source": [
        "svc = SVC(kernel='rbf')\n",
        "svc.fit(X_train,y_train)\n",
        "pred_svc = svc.predict(X_test)\n",
        "print(\"Classification Report for Suppprt Vector Classifier:\\n\", classification_report(y_test, pred_svc))\n",
        "accuracy = accuracy_score(y_test, pred_svc)\n",
        "print(\"Accuracy score for Support Vector Classifier: \", accuracy)"
      ]
    },
    {
      "cell_type": "code",
      "execution_count": null,
      "id": "f5180a57",
      "metadata": {
        "id": "f5180a57"
      },
      "outputs": [],
      "source": [
        "knn = KNeighborsClassifier(n_neighbors=20)\n",
        "knn.fit(X_train, y_train)\n",
        "pred_knn_cls = knn.predict(X_test)\n",
        "print(\"Classification Report for KNN Classifier:\\n\", classification_report(y_test, pred_knn_cls))\n",
        "accuracy = accuracy_score(y_test, pred_knn_cls)\n",
        "print(\"Accuracy score for KNN Classifier: \", accuracy)"
      ]
    },
    {
      "cell_type": "code",
      "execution_count": null,
      "id": "e5da636d",
      "metadata": {
        "id": "e5da636d"
      },
      "outputs": [],
      "source": [
        "dt_cls = DecisionTreeClassifier()\n",
        "dt_cls.fit(X_train, y_train)\n",
        "pred_dt_cls = dt_cls.predict(X_test)\n",
        "print(\"Classification Report for Decision Tree Classifier:\\n\", classification_report(y_test, pred_dt_cls))\n",
        "accuracy = accuracy_score(y_test, pred_dt_cls)\n",
        "print(\"Accuracy score for Decision Tree Classifier: \", accuracy)"
      ]
    },
    {
      "cell_type": "code",
      "execution_count": null,
      "id": "f5f52c47",
      "metadata": {
        "id": "f5f52c47"
      },
      "outputs": [],
      "source": [
        "rf_classifier = RandomForestClassifier(n_estimators=100, random_state=42)\n",
        "rf_classifier.fit(X_train, y_train)\n",
        "pred_rf_cls = rf_classifier.predict(X_test)\n",
        "print(\"Classification Report for Random Forest Classifier:\\n\", classification_report(y_test, pred_rf_cls))\n",
        "accuracy = accuracy_score(y_test, pred_rf_cls)\n",
        "print(\"Accuracy score for Random Forest Classifier: \", accuracy)"
      ]
    },
    {
      "cell_type": "code",
      "execution_count": null,
      "id": "0c44347e",
      "metadata": {
        "id": "0c44347e"
      },
      "outputs": [],
      "source": [
        "lr_classifier = LogisticRegression()\n",
        "lr_classifier.fit(X_train, y_train)\n",
        "pred_lr_cls = lr_classifier.predict(X_test)\n",
        "print(\"Classification Report for Logistic Regression Classifier:\\n\", classification_report(y_test, pred_lr_cls))\n",
        "accuracy = accuracy_score(y_test, pred_lr_cls)\n",
        "print(\"Accuracy score for Logistic Regression Classifier: \", accuracy)"
      ]
    },
    {
      "cell_type": "markdown",
      "id": "f4c93df0",
      "metadata": {
        "id": "f4c93df0"
      },
      "source": [
        "### Conclusion:\n",
        "#### Random Forest Classifier seems to perform best among all, as it has 83% accuracy"
      ]
    },
    {
      "cell_type": "code",
      "execution_count": null,
      "id": "28d96071",
      "metadata": {
        "id": "28d96071"
      },
      "outputs": [],
      "source": []
    }
  ],
  "metadata": {
    "kernelspec": {
      "display_name": "Python 3",
      "name": "python3"
    },
    "language_info": {
      "codemirror_mode": {
        "name": "ipython",
        "version": 3
      },
      "file_extension": ".py",
      "mimetype": "text/x-python",
      "name": "python",
      "nbconvert_exporter": "python",
      "pygments_lexer": "ipython3",
      "version": "3.9.7"
    },
    "colab": {
      "provenance": [],
      "gpuType": "T4",
      "include_colab_link": true
    },
    "accelerator": "GPU"
  },
  "nbformat": 4,
  "nbformat_minor": 5
}